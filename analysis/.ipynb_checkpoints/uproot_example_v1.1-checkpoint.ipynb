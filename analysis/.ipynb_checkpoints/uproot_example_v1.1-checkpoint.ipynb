{
 "cells": [
  {
   "cell_type": "markdown",
   "metadata": {},
   "source": [
    "# Example of analyzing ntuple root files using uproot\n",
    "\n",
    "Uproot Reference: https://uproot.readthedocs.io/en/latest/basic.html\n",
    "\n",
    "RQ / Ntuple Reference: https://github.com/BNLIF/drop/blob/main/docs/rq_variables.md"
   ]
  },
  {
   "cell_type": "code",
   "execution_count": 24,
   "metadata": {},
   "outputs": [],
   "source": [
    "\"\"\"\n",
    "Import packages\n",
    "\"\"\"\n",
    "import uproot\n",
    "import matplotlib.pyplot as plt\n",
    "import matplotlib.colors as colors\n",
    "import numpy as np"
   ]
  },
  {
   "cell_type": "code",
   "execution_count": 2,
   "metadata": {},
   "outputs": [
    {
     "name": "stdout",
     "output_type": "stream",
     "text": [
      "Your uproot version:  4.1.3\n",
      "Info: uproot 4+ is recommended.\n"
     ]
    }
   ],
   "source": [
    "print(\"Your uproot version: \", uproot.__version__)\n",
    "print(\"Info: uproot 4+ is recommended.\")"
   ]
  },
  {
   "cell_type": "markdown",
   "metadata": {},
   "source": [
    "Open a ntuple ROOT file by providing the file path. The ntuple is also called Reduced Quality (RQ) in LZ. In our data, you can identify a ntuple file with appendix `_rq` in filename. "
   ]
  },
  {
   "cell_type": "code",
   "execution_count": 3,
   "metadata": {},
   "outputs": [],
   "source": [
    "f = uproot.open('../data/phase1_muon_wbls_1pct_220921T1351_rq.root')"
   ]
  },
  {
   "cell_type": "markdown",
   "metadata": {},
   "source": [
    "Inspect this ROOT File\n",
    "\n",
    "Notes: uproot read in root file object as dictionary. Dictionary maps keys to data. keys can be either string, integer, or float. Data can have simple or complicated data structure. \n",
    "\n",
    "In the RQ file, there are three trees: `event`, `run_info`, and `pmt_info`. \n",
    "\n",
    "-  `event`: the main tree containing many entries where each entry corresponds to a DAQ trigger\n",
    "- `run_info`: the header tree containing just one entry per run. \n",
    "- `pmt_info`: the header tree containing npmt entrues. npmt is the number of pmt calibrated. Info includes spe_mean, spe_width, spe_mean_err, spe_width_err, HV, etc. "
   ]
  },
  {
   "cell_type": "code",
   "execution_count": 4,
   "metadata": {},
   "outputs": [
    {
     "data": {
      "text/plain": [
       "{'event;1': 'TTree', 'run_info;1': 'TTree', 'pmt_info;1': 'TTree'}"
      ]
     },
     "execution_count": 4,
     "metadata": {},
     "output_type": "execute_result"
    }
   ],
   "source": [
    "f.classnames()"
   ]
  },
  {
   "cell_type": "markdown",
   "metadata": {},
   "source": [
    "Let's inspect the trees one by one, starting with `event`. You can use show to print out the branches. Please refer to the [RQ / Ntuple Documentation](https://github.com/BNLIF/drop/blob/main/docs/rq_variables.md) for the meaning of each variables. \n",
    "\n",
    "In a nutshell, variables in `event` are categorized into event-level, channel-level, pulse-level, and auxilary-channel-level. \n",
    "\n",
    "- An event-level variable, such as `event_id`, has one scalar per event. \n",
    "- A channel-level variable, such as `ch_id`, has one static array per event. The length of array is fixed to the number of signal channels readout by digitizers. \n",
    "- An auxilary-channel-level variable, such as `aux_ch_id`, is similar to channel-level variable, but it was for non-signal channels. Bottom paddle is an example of auxiliary channel. Auxilary-channel-level variables are typically not spe normalized, and have different unit.\n",
    "- A pulse-level variable, such as `pulse_area_sum_pe` has one dynamic array per event. The length of array is different from event to event, and is tracked by `npulse` variable. "
   ]
  },
  {
   "cell_type": "code",
   "execution_count": 5,
   "metadata": {},
   "outputs": [
    {
     "name": "stdout",
     "output_type": "stream",
     "text": [
      "name                 | typename                 | interpretation                \n",
      "---------------------+--------------------------+-------------------------------\n",
      "event_id             | uint32_t                 | AsDtype('>u4')\n",
      "event_ttt            | uint64_t                 | AsDtype('>u8')\n",
      "event_sanity         | uint32_t                 | AsDtype('>u4')\n",
      "event_saturated      | bool                     | AsDtype('bool')\n",
      "ch_id                | uint16_t[46]             | AsDtype(\"('>u2', (46,))\")\n",
      "ch_saturated         | bool[46]                 | AsDtype(\"('?', (46,))\")\n",
      "ch_roi0_height_pe    | float[46]                | AsDtype(\"('>f4', (46,))\")\n",
      "ch_roi1_height_pe    | float[46]                | AsDtype(\"('>f4', (46,))\")\n",
      "ch_roi2_height_pe    | float[46]                | AsDtype(\"('>f4', (46,))\")\n",
      "ch_roi0_area_pe      | float[46]                | AsDtype(\"('>f4', (46,))\")\n",
      "ch_roi1_area_pe      | float[46]                | AsDtype(\"('>f4', (46,))\")\n",
      "ch_roi2_area_pe      | float[46]                | AsDtype(\"('>f4', (46,))\")\n",
      "ch_roi0_low_pe       | float[46]                | AsDtype(\"('>f4', (46,))\")\n",
      "ch_roi1_low_pe       | float[46]                | AsDtype(\"('>f4', (46,))\")\n",
      "ch_roi2_low_pe       | float[46]                | AsDtype(\"('>f4', (46,))\")\n",
      "ch_roi0_std_pe       | float[46]                | AsDtype(\"('>f4', (46,))\")\n",
      "ch_roi1_std_pe       | float[46]                | AsDtype(\"('>f4', (46,))\")\n",
      "ch_roi2_std_pe       | float[46]                | AsDtype(\"('>f4', (46,))\")\n",
      "aux_ch_id            | uint16_t[2]              | AsDtype(\"('>u2', (2,))\")\n",
      "aux_ch_area_mV       | float[2]                 | AsDtype(\"('>f4', (2,))\")\n",
      "npulse               | int32_t                  | AsDtype('>i4')\n",
      "pulse_id             | uint32_t[]               | AsJagged(AsDtype('>u4'))\n",
      "pulse_start          | uint32_t[]               | AsJagged(AsDtype('>u4'))\n",
      "pulse_end            | uint32_t[]               | AsJagged(AsDtype('>u4'))\n",
      "pulse_area_sum_pe    | float[]                  | AsJagged(AsDtype('>f4'))\n",
      "pulse_area_bot_pe    | float[]                  | AsJagged(AsDtype('>f4'))\n",
      "pulse_area_side_pe   | float[]                  | AsJagged(AsDtype('>f4'))\n",
      "pulse_area_row1_pe   | float[]                  | AsJagged(AsDtype('>f4'))\n",
      "pulse_area_row2_pe   | float[]                  | AsJagged(AsDtype('>f4'))\n",
      "pulse_area_row3_pe   | float[]                  | AsJagged(AsDtype('>f4'))\n",
      "pulse_area_row4_pe   | float[]                  | AsJagged(AsDtype('>f4'))\n",
      "pulse_height_sum_pe  | float[]                  | AsJagged(AsDtype('>f4'))\n",
      "pulse_height_bot_pe  | float[]                  | AsJagged(AsDtype('>f4'))\n",
      "pulse_height_side_pe | float[]                  | AsJagged(AsDtype('>f4'))\n",
      "pulse_height_row1_pe | float[]                  | AsJagged(AsDtype('>f4'))\n",
      "pulse_height_row2_pe | float[]                  | AsJagged(AsDtype('>f4'))\n",
      "pulse_height_row3_pe | float[]                  | AsJagged(AsDtype('>f4'))\n",
      "pulse_height_row4_pe | float[]                  | AsJagged(AsDtype('>f4'))\n",
      "pulse_sba            | float[]                  | AsJagged(AsDtype('>f4'))\n",
      "pulse_ptime_ns       | float[]                  | AsJagged(AsDtype('>f4'))\n",
      "pulse_coincidence    | uint32_t[]               | AsJagged(AsDtype('>u4'))\n",
      "pulse_area_max_frac  | float[]                  | AsJagged(AsDtype('>f4'))\n",
      "pulse_area_max_ch_id | uint32_t[]               | AsJagged(AsDtype('>u4'))\n",
      "pulse_saturated      | bool[]                   | AsJagged(AsDtype('bool'))\n"
     ]
    }
   ],
   "source": [
    "f['event'].show()"
   ]
  },
  {
   "cell_type": "markdown",
   "metadata": {},
   "source": [
    "The `run_info` tree contains exactly 1 entry per run. It has DAQ info, such as `n_boards`, and the configuration used to convert root to ntuple. The config info are saved in variables prefix with `cfg_`. "
   ]
  },
  {
   "cell_type": "code",
   "execution_count": 6,
   "metadata": {},
   "outputs": [
    {
     "name": "stdout",
     "output_type": "stream",
     "text": [
      "name                 | typename                 | interpretation                \n",
      "---------------------+--------------------------+-------------------------------\n",
      "n_boards             | int64_t                  | AsDtype('>i8')\n",
      "n_trg_read           | int64_t                  | AsDtype('>i8')\n",
      "n_event_proc         | int64_t                  | AsDtype('>i8')\n",
      "leftover_event_id    | int64_t                  | AsDtype('>i8')\n",
      "ch_id                | int64_t[48]              | AsDtype(\"('>i8', (48,))\")\n",
      "cfg_batch_size       | int64_t                  | AsDtype('>i8')\n",
      "cfg_post_trigger     | double                   | AsDtype('>f8')\n",
      "cfg_dgtz_dynamic_... | int64_t                  | AsDtype('>i8')\n",
      "cfg_non_signal_ch... | int64_t[2]               | AsDtype(\"('>i8', (2,))\")\n",
      "cfg_bottom_pmt_ch... | int64_t[30]              | AsDtype(\"('>i8', (30,))\")\n",
      "cfg_side_pmt_chan... | int64_t[16]              | AsDtype(\"('>i8', (16,))\")\n",
      "cfg_spe_fit_resul... | int64_t[32]              | AsDtype(\"('>i8', (32,))\")\n",
      "cfg_daisy_chainr     | bool                     | AsDtype('bool')\n",
      "cfg_apply_high_pa... | bool                     | AsDtype('bool')\n",
      "cfg_high_pass_cut... | double                   | AsDtype('>f8')\n",
      "cfg_moving_avg_le... | int64_t                  | AsDtype('>i8')\n",
      "cfg_sigma_above_b... | double                   | AsDtype('>f8')\n",
      "cfg_pre_pulse        | int64_t                  | AsDtype('>i8')\n",
      "cfg_post_pulse       | int64_t                  | AsDtype('>i8')\n",
      "cfg_roi_start_ns     | int64_t[3]               | AsDtype(\"('>i8', (3,))\")\n",
      "cfg_roi_end_ns       | int64_t[3]               | AsDtype(\"('>i8', (3,))\")\n",
      "cfg_pulse_finder_... | int64_t                  | AsDtype('>i8')\n",
      "cfg_scipy_pf_pars... | int64_t                  | AsDtype('>i8')\n",
      "cfg_scipy_pf_pars... | int64_t                  | AsDtype('>i8')\n",
      "cfg_scipy_pf_pars... | int64_t                  | AsDtype('>i8')\n",
      "cfg_scipy_pf_pars... | int64_t                  | AsDtype('>i8')\n",
      "cfg_spe_height_th... | double                   | AsDtype('>f8')\n",
      "n_pmt_ch             | int64_t                  | AsDtype('>i8')\n",
      "n_aux_ch             | int64_t                  | AsDtype('>i8')\n"
     ]
    }
   ],
   "source": [
    "f['run_info'].show()"
   ]
  },
  {
   "cell_type": "markdown",
   "metadata": {},
   "source": [
    "The `pmt_info` tree contains npmt entries. For 1ton, npmt is 46."
   ]
  },
  {
   "cell_type": "code",
   "execution_count": 7,
   "metadata": {},
   "outputs": [
    {
     "name": "stdout",
     "output_type": "stream",
     "text": [
      "name                 | typename                 | interpretation                \n",
      "---------------------+--------------------------+-------------------------------\n",
      "ch_id                | int64_t                  | AsDtype('>i8')\n",
      "spe_mean             | double                   | AsDtype('>f8')\n",
      "spe_width            | double                   | AsDtype('>f8')\n",
      "spe_mean_err         | double                   | AsDtype('>f8')\n",
      "spe_width_err        | double                   | AsDtype('>f8')\n",
      "chi2                 | double                   | AsDtype('>f8')\n",
      "dof                  | int64_t                  | AsDtype('>i8')\n",
      "HV                   | int64_t                  | AsDtype('>i8')\n"
     ]
    }
   ],
   "source": [
    "f['pmt_info'].show()"
   ]
  },
  {
   "cell_type": "markdown",
   "metadata": {},
   "source": [
    "Next, let's try to load the ntuple data. We will use `event` tree since it's the main course of a meal. \n",
    "\n",
    "You can load all data at once using `arrays()` method, or load a branch at a time using `array()` method. The later is useful when you don't want to load unnecessary branches into memory at once.\n",
    "\n",
    "When uproot load the data from a tree, it converts them pythonic variables. There are library to choose data types: numpy array, awkward array, or pandas dataframe. I personally like numpy since it's the simplest and fastest. If you prefer other type, such as pandas dataframe, please refer to the uproot documentation for example. The rest of this tutorial will deal with numpy array."
   ]
  },
  {
   "cell_type": "code",
   "execution_count": 8,
   "metadata": {},
   "outputs": [],
   "source": [
    "t = f['event']\n",
    "rq = t.arrays(library='np')"
   ]
  },
  {
   "cell_type": "markdown",
   "metadata": {},
   "source": [
    "So what is this rq? -- it's a dictionary: key -> values"
   ]
  },
  {
   "cell_type": "code",
   "execution_count": 9,
   "metadata": {},
   "outputs": [
    {
     "data": {
      "text/plain": [
       "dict"
      ]
     },
     "execution_count": 9,
     "metadata": {},
     "output_type": "execute_result"
    }
   ],
   "source": [
    "type(rq)"
   ]
  },
  {
   "cell_type": "markdown",
   "metadata": {},
   "source": [
    "For example, to access all values of `event_id` branch, do"
   ]
  },
  {
   "cell_type": "code",
   "execution_count": 10,
   "metadata": {},
   "outputs": [
    {
     "data": {
      "text/plain": [
       "array([   0,    1,    2, ..., 4049, 4050, 4051], dtype=uint32)"
      ]
     },
     "execution_count": 10,
     "metadata": {},
     "output_type": "execute_result"
    }
   ],
   "source": [
    "rq['event_id']"
   ]
  },
  {
   "cell_type": "markdown",
   "metadata": {},
   "source": [
    "How to get the data for the n-th entry? --- use index n\n",
    "\n",
    "> Note: event_id is a unique number in a run to label an evnet. It's not necessarily the same as entry index. If an event is skipped during the processing, there will be a mismatch."
   ]
  },
  {
   "cell_type": "code",
   "execution_count": 11,
   "metadata": {},
   "outputs": [
    {
     "name": "stdout",
     "output_type": "stream",
     "text": [
      "event_id= 314\n",
      "npulse= 1\n",
      "pulse_area_sum_pe= [343.52863]\n"
     ]
    }
   ],
   "source": [
    "print('event_id=', rq['event_id'][314])\n",
    "print('npulse=', rq['npulse'][314])\n",
    "print('pulse_area_sum_pe=', rq['pulse_area_sum_pe'][314])"
   ]
  },
  {
   "cell_type": "markdown",
   "metadata": {},
   "source": [
    "Sometimes an event may have many pulses. The pulses are ordered by its prominence in descending order. It loosely means that it's ordered by pulse size. So the first pulse will be the largest one.\n",
    "\n",
    "For example, this event has three pulses."
   ]
  },
  {
   "cell_type": "code",
   "execution_count": 12,
   "metadata": {},
   "outputs": [
    {
     "name": "stdout",
     "output_type": "stream",
     "text": [
      "event_id= 8\n",
      "npulse= 3\n",
      "pulse_area_sum_pe= [197.03839    9.322604   8.038882]\n",
      "pulse_ptime_ns= [ 382. 1450.  858.]\n"
     ]
    }
   ],
   "source": [
    "print('event_id=', rq['event_id'][8])\n",
    "print('npulse=', rq['npulse'][8])\n",
    "print('pulse_area_sum_pe=', rq['pulse_area_sum_pe'][8])\n",
    "print('pulse_ptime_ns=', rq['pulse_ptime_ns'][8])"
   ]
  },
  {
   "cell_type": "markdown",
   "metadata": {},
   "source": [
    "Next, let's try make some plots.\n",
    "\n",
    "Let's plot event time stamp vs event_id. TTT stands for trigger time tag. V1730s TTT counter increments every 8ns. So I multiple event_ttt by 8e-9 to have the unit of second."
   ]
  },
  {
   "cell_type": "code",
   "execution_count": 13,
   "metadata": {},
   "outputs": [
    {
     "data": {
      "image/png": "[encoded data removed]",
      "text/plain": [
       "<Figure size 432x288 with 1 Axes>"
      ]
     },
     "metadata": {
      "needs_background": "light"
     },
     "output_type": "display_data"
    }
   ],
   "source": [
    "event_id = rq['event_id']\n",
    "time_s = rq['event_ttt']*8e-9\n",
    "plt.plot(event_id, time_s)\n",
    "plt.xlabel('event id')\n",
    "plt.ylabel('event time stamp [s]')\n",
    "plt.show()"
   ]
  },
  {
   "cell_type": "markdown",
   "metadata": {},
   "source": [
    "How to make selection cut? Simple selection can be done by masking numpy array. A mask is just a bool array. For example, the following defines a mask of bool array for events that has more than 1 pulse. "
   ]
  },
  {
   "cell_type": "code",
   "execution_count": 14,
   "metadata": {},
   "outputs": [
    {
     "name": "stdout",
     "output_type": "stream",
     "text": [
      "[False False False ...  True False  True]\n",
      "(4052,)\n"
     ]
    }
   ],
   "source": [
    "mask = rq['npulse']>1\n",
    "print(mask)\n",
    "print(mask.shape)"
   ]
  },
  {
   "cell_type": "markdown",
   "metadata": {},
   "source": [
    "Using the mask, we can select events "
   ]
  },
  {
   "cell_type": "code",
   "execution_count": 15,
   "metadata": {},
   "outputs": [
    {
     "name": "stdout",
     "output_type": "stream",
     "text": [
      "num of entry before the cut: (4052,)\n",
      "num of entry after the cut: (3826,)\n"
     ]
    }
   ],
   "source": [
    "print('num of entry before the cut:', rq['pulse_area_sum_pe'].shape)\n",
    "mask = rq['npulse']>0\n",
    "pulse_area = rq['pulse_area_sum_pe'][mask]\n",
    "print('num of entry after the cut:', pulse_area.shape)\n"
   ]
  },
  {
   "cell_type": "markdown",
   "metadata": {},
   "source": [
    "Recall each entry of `pulse_area_sum_pe` is a dynamic array, and the shape method cannot not display the second dimension. For example, the first event after the cut is a array of just one element:"
   ]
  },
  {
   "cell_type": "code",
   "execution_count": 16,
   "metadata": {},
   "outputs": [
    {
     "data": {
      "text/plain": [
       "array([331.5158], dtype=float32)"
      ]
     },
     "execution_count": 16,
     "metadata": {},
     "output_type": "execute_result"
    }
   ],
   "source": [
    "pulse_area[0]"
   ]
  },
  {
   "cell_type": "markdown",
   "metadata": {},
   "source": [
    "Pulse are rank in prominence. So the first pulse is usually the muon. Let's make a histogram:"
   ]
  },
  {
   "cell_type": "code",
   "execution_count": 19,
   "metadata": {},
   "outputs": [
    {
     "data": {
      "image/png": "[encoded data removed]",
      "text/plain": [
       "<Figure size 432x288 with 1 Axes>"
      ]
     },
     "metadata": {
      "needs_background": "light"
     },
     "output_type": "display_data"
    }
   ],
   "source": [
    "largest_pulse_area = []\n",
    "for i in range(len(pulse_area)):\n",
    "    largest_pulse_area.append(pulse_area[i][0])\n",
    "\n",
    "plt.hist(largest_pulse_area, bins=100, range=(0, 1000))\n",
    "plt.xlabel('npe')\n",
    "plt.ylabel('count / (10 PE)')\n",
    "plt.show()"
   ]
  },
  {
   "cell_type": "markdown",
   "metadata": {},
   "source": [
    "There are also c++ style selection cut in a loop, ideal for complicated cuts in combination. Something like:"
   ]
  },
  {
   "cell_type": "code",
   "execution_count": 22,
   "metadata": {},
   "outputs": [],
   "source": [
    "area = [] # initialize empty list\n",
    "max_frac = [] # initialize empty list\n",
    "for i in range(len(rq['event_id'])):\n",
    "    if rq['event_sanity'][i]>0:\n",
    "        continue\n",
    "    if rq['event_saturated'][i]==True:\n",
    "        continue\n",
    "    if rq['npulse'][i]==0:\n",
    "        continue\n",
    "    area.append( rq['pulse_area_sum_pe'][i][0] ) # fill list\n",
    "    max_frac.append( rq['pulse_area_max_frac'][i][0] ) # fill list"
   ]
  },
  {
   "cell_type": "markdown",
   "metadata": {},
   "source": [
    "Now we have two variables from the selection. Let's make a 2D histogram (they must have the same length)"
   ]
  },
  {
   "cell_type": "code",
   "execution_count": 27,
   "metadata": {},
   "outputs": [
    {
     "data": {
      "image/png": "[encoded data removed]",
      "text/plain": [
       "<Figure size 432x288 with 1 Axes>"
      ]
     },
     "metadata": {
      "needs_background": "light"
     },
     "output_type": "display_data"
    }
   ],
   "source": [
    "plt.hist2d(area, max_frac, bins=[50, 50], range=[[0, 1000], [0, 0.5]],\n",
    "          norm=colors.LogNorm(), cmap='jet')\n",
    "plt.xlabel('Npe')\n",
    "plt.ylabel('Max Frac')\n",
    "plt.show()"
   ]
  },
  {
   "cell_type": "code",
   "execution_count": null,
   "metadata": {},
   "outputs": [],
   "source": []
  }
 ],
 "metadata": {
  "kernelspec": {
   "display_name": "Python 3",
   "language": "python",
   "name": "python3"
  },
  "language_info": {
   "codemirror_mode": {
    "name": "ipython",
    "version": 3
   },
   "file_extension": ".py",
   "mimetype": "text/x-python",
   "name": "python",
   "nbconvert_exporter": "python",
   "pygments_lexer": "ipython3",
   "version": "3.8.3"
  }
 },
 "nbformat": 4,
 "nbformat_minor": 4
}
